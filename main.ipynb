{
 "cells": [
  {
   "cell_type": "markdown",
   "metadata": {},
   "source": [
    "# <center> Final Exam – YouTube-Watch-History </center>"
   ]
  },
  {
   "cell_type": "markdown",
   "metadata": {},
   "source": [
    "### <center>Made by:</center>\n",
    "\n",
    "**<center> Exam number S176512 </center>**\n",
    "<center>Lasse Gustavo Strandbygaard (last24ag)</center>\n"
   ]
  },
  {
   "cell_type": "markdown",
   "metadata": {},
   "source": [
    "<center> <img src=\"YouTube_Logo.jpeg\"/> </center>"
   ]
  },
  {
   "cell_type": "markdown",
   "metadata": {},
   "source": [
    "##  Project Background\n"
   ]
  },
  {
   "cell_type": "markdown",
   "metadata": {},
   "source": [
    "YouTube is a video-sharing platform where users upload, view, and share content. Google, its owner, allows users to export their personal data, including YouTube watch history, via [Google Takeout](https://takeout.google.com/), ensuring transparency and user control. This project uses a Flask website to display insights into YouTube watch history, demonstrating skills learned during the course. Users can download their watch history through [Google Takeout](https://takeout.google.com/) and analyze their own viewing habits using this program. Instructions are provided in the Report.pdf and README file."
   ]
  },
  {
   "cell_type": "markdown",
   "metadata": {},
   "source": [
    "## Executive Summary"
   ]
  },
  {
   "cell_type": "markdown",
   "metadata": {},
   "source": [
    "The four visualizations reveal key insights into the user's YouTube habits. For the test data of my watching habits, the line plot shows consistent peaks in video consumption during seasons, particularly aligned with holidays or weekends. The heatmap highlights evenings as the prime viewing hours, especially on weekends. The seasonal table confirms summer and winter as peak seasons for watching content.\n",
    "\n",
    "The topic modelling function reveals popular topics in the videos viewed. For instance with my data it shows that most common topic for the videos I have watched is music related, with words such as review, album and naming several music artists. The word cloud visually reinforces these recurring themes as the largest words most often is \"*Album review*\" and\"*VS*\". This is also reflected from the barplot that shows the most watched channel is a music reviewer and several mixed martial arts YouTube channels such as UFC and Top Rank Boxing."
   ]
  },
  {
   "cell_type": "markdown",
   "metadata": {},
   "source": [
    "### **Dowloading necessary libraries**"
   ]
  },
  {
   "cell_type": "markdown",
   "metadata": {},
   "source": [
    "***WARNING***: \n",
    "\n",
    "Ensure the following libraries are installed before running the code: \n",
    "\n",
    "*pandas, numpy, matplotlib, seaborn, scikit-learn, wordcloud, ijson, calendar, flask, os, json, threading, sklearn.decomposition, sklearn.feature_extraction.text*. \n",
    "\n",
    "Missing libraries will cause errors when using app.py or library.py. Run pip install to install them before proceeding."
   ]
  },
  {
   "cell_type": "code",
   "execution_count": 1,
   "metadata": {},
   "outputs": [],
   "source": [
    "import os\n",
    "from threading import Thread\n",
    "from app import YouTubePlots, YouTubeApp, install_libraries\n",
    "from library import YouTubeWrangler, YouTubeTextStats"
   ]
  },
  {
   "cell_type": "code",
   "execution_count": 2,
   "metadata": {},
   "outputs": [],
   "source": [
    "# List of required libraries\n",
    "required_libraries = [\n",
    "    \"json\", \"ijson\", \"numpy\", \"pandas\", \"seaborn\", \"matplotlib\", \n",
    "    \"scikit-learn\", \"wordcloud\", \"threading\"]\n",
    "\n",
    "# Map library names to import names where different\n",
    "library_mapping = {\n",
    "    \"json\": \"json\",\n",
    "    \"ijson\": \"ijson\",\n",
    "    \"numpy\": \"numpy\",\n",
    "    \"pandas\": \"pandas\",\n",
    "    \"seaborn\": \"seaborn\",\n",
    "    \"matplotlib\": \"matplotlib\",\n",
    "    \"scikit-learn\": \"sklearn\",\n",
    "    \"wordcloud\": \"wordcloud\",\n",
    "    \"threading\": \"threading\"\n",
    "}"
   ]
  },
  {
   "cell_type": "code",
   "execution_count": 3,
   "metadata": {},
   "outputs": [
    {
     "name": "stdout",
     "output_type": "stream",
     "text": [
      "json is already installed.\n",
      "ijson is already installed.\n",
      "numpy is already installed.\n",
      "pandas is already installed.\n",
      "seaborn is already installed.\n",
      "matplotlib is already installed.\n",
      "Installing scikit-learn...\n",
      "Requirement already satisfied: scikit-learn in /opt/miniconda3/lib/python3.12/site-packages (1.6.0)\n",
      "Requirement already satisfied: numpy>=1.19.5 in /opt/miniconda3/lib/python3.12/site-packages (from scikit-learn) (1.26.4)\n",
      "Requirement already satisfied: scipy>=1.6.0 in /opt/miniconda3/lib/python3.12/site-packages (from scikit-learn) (1.14.0)\n",
      "Requirement already satisfied: joblib>=1.2.0 in /opt/miniconda3/lib/python3.12/site-packages (from scikit-learn) (1.4.2)\n",
      "Requirement already satisfied: threadpoolctl>=3.1.0 in /opt/miniconda3/lib/python3.12/site-packages (from scikit-learn) (3.5.0)\n",
      "wordcloud is already installed.\n",
      "threading is already installed.\n"
     ]
    },
    {
     "name": "stderr",
     "output_type": "stream",
     "text": [
      "\n",
      "\u001b[1m[\u001b[0m\u001b[34;49mnotice\u001b[0m\u001b[1;39;49m]\u001b[0m\u001b[39;49m A new release of pip is available: \u001b[0m\u001b[31;49m24.2\u001b[0m\u001b[39;49m -> \u001b[0m\u001b[32;49m24.3.1\u001b[0m\n",
      "\u001b[1m[\u001b[0m\u001b[34;49mnotice\u001b[0m\u001b[1;39;49m]\u001b[0m\u001b[39;49m To update, run: \u001b[0m\u001b[32;49mpip install --upgrade pip\u001b[0m\n"
     ]
    }
   ],
   "source": [
    "# Install libraries\n",
    "install_libraries(required_libraries)\n",
    "\n",
    "# Verify installation and print success\n",
    "for lib in required_libraries:\n",
    "    try:\n",
    "        __import__(library_mapping[lib])\n",
    "    except ImportError:\n",
    "        print(f\"Failed to install {lib}. Please install manually.\")"
   ]
  },
  {
   "cell_type": "markdown",
   "metadata": {},
   "source": [
    "### **Creating images for website:**"
   ]
  },
  {
   "cell_type": "code",
   "execution_count": 4,
   "metadata": {},
   "outputs": [
    {
     "name": "stdout",
     "output_type": "stream",
     "text": [
      "Saving plots to: /Users/lassestrandbygaard/Desktop/Python:SQL Projects/main/static\n"
     ]
    }
   ],
   "source": [
    "# locating the patj of the json file\n",
    "path = os.path.join(os.getcwd(), 'watch-history.json')\n",
    "\n",
    "# Initialize the class with the JSON file path\n",
    "pipeline = YouTubePlots(path)\n",
    "\n",
    "# Run the full pipeline (set save_visuals=True to save images)\n",
    "pipeline.run_pipeline(save_visuals=True)"
   ]
  },
  {
   "cell_type": "markdown",
   "metadata": {},
   "source": [
    "### **Show data of your YouTube viewing history:**"
   ]
  },
  {
   "cell_type": "code",
   "execution_count": 5,
   "metadata": {},
   "outputs": [
    {
     "data": {
      "text/html": [
       "<div>\n",
       "<style scoped>\n",
       "    .dataframe tbody tr th:only-of-type {\n",
       "        vertical-align: middle;\n",
       "    }\n",
       "\n",
       "    .dataframe tbody tr th {\n",
       "        vertical-align: top;\n",
       "    }\n",
       "\n",
       "    .dataframe thead th {\n",
       "        text-align: right;\n",
       "    }\n",
       "</style>\n",
       "<table border=\"1\" class=\"dataframe\">\n",
       "  <thead>\n",
       "    <tr style=\"text-align: right;\">\n",
       "      <th></th>\n",
       "      <th>title</th>\n",
       "      <th>time</th>\n",
       "      <th>channel_name</th>\n",
       "    </tr>\n",
       "  </thead>\n",
       "  <tbody>\n",
       "    <tr>\n",
       "      <th>0</th>\n",
       "      <td>Watched Install Git on MacOS (Macbook M1, M1 M...</td>\n",
       "      <td>2024-02-18T15:16:21.549Z</td>\n",
       "      <td>Code With Arjun</td>\n",
       "    </tr>\n",
       "    <tr>\n",
       "      <th>1</th>\n",
       "      <td>Watched Merab wrestled Bradley Martyn 😂 (via m...</td>\n",
       "      <td>2024-02-18T15:02:17.549Z</td>\n",
       "      <td>ESPN MMA</td>\n",
       "    </tr>\n",
       "    <tr>\n",
       "      <th>2</th>\n",
       "      <td>Watched 5 Basic Essential Tactics for NOOBS! -...</td>\n",
       "      <td>2024-02-18T15:01:03.263Z</td>\n",
       "      <td>Zerkovich</td>\n",
       "    </tr>\n",
       "    <tr>\n",
       "      <th>4</th>\n",
       "      <td>Watched Skaven Inventions in a Nutshell</td>\n",
       "      <td>2024-02-18T15:00:47.482Z</td>\n",
       "      <td>Tarriff</td>\n",
       "    </tr>\n",
       "    <tr>\n",
       "      <th>6</th>\n",
       "      <td>Watched Ilia Topuria says featherweight divisi...</td>\n",
       "      <td>2024-02-18T14:53:49.346Z</td>\n",
       "      <td>ESPN MMA</td>\n",
       "    </tr>\n",
       "    <tr>\n",
       "      <th>...</th>\n",
       "      <td>...</td>\n",
       "      <td>...</td>\n",
       "      <td>...</td>\n",
       "    </tr>\n",
       "    <tr>\n",
       "      <th>48402</th>\n",
       "      <td>Watched Bevis   Arealfunktionen er en stamfunk...</td>\n",
       "      <td>2020-07-12T20:57:18.686Z</td>\n",
       "      <td>Annepande</td>\n",
       "    </tr>\n",
       "    <tr>\n",
       "      <th>48403</th>\n",
       "      <td>Watched Tretrinsreglen - Bevis: Differentialkv...</td>\n",
       "      <td>2020-07-12T20:51:34.640Z</td>\n",
       "      <td>KG MAT</td>\n",
       "    </tr>\n",
       "    <tr>\n",
       "      <th>48404</th>\n",
       "      <td>Watched https://www.youtube.com/watch?v=19FT6b...</td>\n",
       "      <td>2020-07-12T20:48:08.113Z</td>\n",
       "      <td>NaN</td>\n",
       "    </tr>\n",
       "    <tr>\n",
       "      <th>48405</th>\n",
       "      <td>Watched Tame Impala - On Track (Acoustic Live)</td>\n",
       "      <td>2020-07-12T20:46:59.003Z</td>\n",
       "      <td>tameimpalaVEVO</td>\n",
       "    </tr>\n",
       "    <tr>\n",
       "      <th>48406</th>\n",
       "      <td>Watched Shooting Film Photos on the Mamiya 7II...</td>\n",
       "      <td>2020-07-12T19:54:21.179Z</td>\n",
       "      <td>Willem Verbeeck</td>\n",
       "    </tr>\n",
       "  </tbody>\n",
       "</table>\n",
       "<p>45044 rows × 3 columns</p>\n",
       "</div>"
      ],
      "text/plain": [
       "                                                   title  \\\n",
       "0      Watched Install Git on MacOS (Macbook M1, M1 M...   \n",
       "1      Watched Merab wrestled Bradley Martyn 😂 (via m...   \n",
       "2      Watched 5 Basic Essential Tactics for NOOBS! -...   \n",
       "4                Watched Skaven Inventions in a Nutshell   \n",
       "6      Watched Ilia Topuria says featherweight divisi...   \n",
       "...                                                  ...   \n",
       "48402  Watched Bevis   Arealfunktionen er en stamfunk...   \n",
       "48403  Watched Tretrinsreglen - Bevis: Differentialkv...   \n",
       "48404  Watched https://www.youtube.com/watch?v=19FT6b...   \n",
       "48405     Watched Tame Impala - On Track (Acoustic Live)   \n",
       "48406  Watched Shooting Film Photos on the Mamiya 7II...   \n",
       "\n",
       "                           time     channel_name  \n",
       "0      2024-02-18T15:16:21.549Z  Code With Arjun  \n",
       "1      2024-02-18T15:02:17.549Z         ESPN MMA  \n",
       "2      2024-02-18T15:01:03.263Z        Zerkovich  \n",
       "4      2024-02-18T15:00:47.482Z          Tarriff  \n",
       "6      2024-02-18T14:53:49.346Z         ESPN MMA  \n",
       "...                         ...              ...  \n",
       "48402  2020-07-12T20:57:18.686Z        Annepande  \n",
       "48403  2020-07-12T20:51:34.640Z           KG MAT  \n",
       "48404  2020-07-12T20:48:08.113Z              NaN  \n",
       "48405  2020-07-12T20:46:59.003Z   tameimpalaVEVO  \n",
       "48406  2020-07-12T19:54:21.179Z  Willem Verbeeck  \n",
       "\n",
       "[45044 rows x 3 columns]"
      ]
     },
     "execution_count": 5,
     "metadata": {},
     "output_type": "execute_result"
    }
   ],
   "source": [
    "df = pipeline.get_cleaned_data()  # Access the cleaned DataFrame\n",
    "df"
   ]
  },
  {
   "cell_type": "markdown",
   "metadata": {},
   "source": [
    "### **Show general descriptive statistics:**"
   ]
  },
  {
   "cell_type": "code",
   "execution_count": 6,
   "metadata": {},
   "outputs": [
    {
     "data": {
      "text/html": [
       "<div>\n",
       "<style scoped>\n",
       "    .dataframe tbody tr th:only-of-type {\n",
       "        vertical-align: middle;\n",
       "    }\n",
       "\n",
       "    .dataframe tbody tr th {\n",
       "        vertical-align: top;\n",
       "    }\n",
       "\n",
       "    .dataframe thead th {\n",
       "        text-align: right;\n",
       "    }\n",
       "</style>\n",
       "<table border=\"1\" class=\"dataframe\">\n",
       "  <thead>\n",
       "    <tr style=\"text-align: right;\">\n",
       "      <th></th>\n",
       "      <th></th>\n",
       "      <th>Time Period</th>\n",
       "      <th>Video Count</th>\n",
       "    </tr>\n",
       "  </thead>\n",
       "  <tbody>\n",
       "    <tr>\n",
       "      <th>0</th>\n",
       "      <td>Year with least videos watched</td>\n",
       "      <td>2024</td>\n",
       "      <td>2336</td>\n",
       "    </tr>\n",
       "    <tr>\n",
       "      <th>1</th>\n",
       "      <td>Year with most videos watched</td>\n",
       "      <td>2023</td>\n",
       "      <td>13917</td>\n",
       "    </tr>\n",
       "    <tr>\n",
       "      <th>2</th>\n",
       "      <td>Month with least videos watched</td>\n",
       "      <td>Feb 2022</td>\n",
       "      <td>360</td>\n",
       "    </tr>\n",
       "    <tr>\n",
       "      <th>3</th>\n",
       "      <td>Month with most videos watched</td>\n",
       "      <td>Jul 2022</td>\n",
       "      <td>1799</td>\n",
       "    </tr>\n",
       "  </tbody>\n",
       "</table>\n",
       "</div>"
      ],
      "text/plain": [
       "                                   Time Period  Video Count\n",
       "0   Year with least videos watched        2024         2336\n",
       "1    Year with most videos watched        2023        13917\n",
       "2  Month with least videos watched    Feb 2022          360\n",
       "3   Month with most videos watched    Jul 2022         1799"
      ]
     },
     "execution_count": 6,
     "metadata": {},
     "output_type": "execute_result"
    }
   ],
   "source": [
    "seasons = YouTubeWrangler(df)\n",
    "seasons.watch_stats()"
   ]
  },
  {
   "cell_type": "code",
   "execution_count": 7,
   "metadata": {},
   "outputs": [
    {
     "data": {
      "text/html": [
       "<div>\n",
       "<style scoped>\n",
       "    .dataframe tbody tr th:only-of-type {\n",
       "        vertical-align: middle;\n",
       "    }\n",
       "\n",
       "    .dataframe tbody tr th {\n",
       "        vertical-align: top;\n",
       "    }\n",
       "\n",
       "    .dataframe thead th {\n",
       "        text-align: right;\n",
       "    }\n",
       "</style>\n",
       "<table border=\"1\" class=\"dataframe\">\n",
       "  <thead>\n",
       "    <tr style=\"text-align: right;\">\n",
       "      <th></th>\n",
       "      <th>season</th>\n",
       "      <th>Videos Watched Count</th>\n",
       "    </tr>\n",
       "  </thead>\n",
       "  <tbody>\n",
       "    <tr>\n",
       "      <th>1</th>\n",
       "      <td>Winter</td>\n",
       "      <td>12423</td>\n",
       "    </tr>\n",
       "    <tr>\n",
       "      <th>2</th>\n",
       "      <td>Summer</td>\n",
       "      <td>12185</td>\n",
       "    </tr>\n",
       "    <tr>\n",
       "      <th>3</th>\n",
       "      <td>Autumn</td>\n",
       "      <td>11815</td>\n",
       "    </tr>\n",
       "    <tr>\n",
       "      <th>4</th>\n",
       "      <td>Spring</td>\n",
       "      <td>8576</td>\n",
       "    </tr>\n",
       "  </tbody>\n",
       "</table>\n",
       "</div>"
      ],
      "text/plain": [
       "   season  Videos Watched Count\n",
       "1  Winter                 12423\n",
       "2  Summer                 12185\n",
       "3  Autumn                 11815\n",
       "4  Spring                  8576"
      ]
     },
     "execution_count": 7,
     "metadata": {},
     "output_type": "execute_result"
    }
   ],
   "source": [
    "seasons.top_seasons()"
   ]
  },
  {
   "cell_type": "code",
   "execution_count": 8,
   "metadata": {},
   "outputs": [
    {
     "name": "stdout",
     "output_type": "stream",
     "text": [
      "Top Topics Identified:\n",
      "Topic 1: review, album, jpegmafia, west, kanye, king, danny, brown, film, drake\n",
      "Topic 2: vs, fight, ufc, highlights, crawford, usyk, joshua, spence, terence, jr\n",
      "Topic 3: reaction, episode, time, official, group, trailer, naruto, avatar, arcane, shippuden\n"
     ]
    }
   ],
   "source": [
    "# Initialize the YouTubeTextStats class\n",
    "text_stats = YouTubeTextStats(df)\n",
    "\n",
    "# Get the most common topics\n",
    "text_stats.topic_modelling(num_topics=3)"
   ]
  },
  {
   "cell_type": "markdown",
   "metadata": {},
   "source": [
    "### **Run Flask Website**"
   ]
  },
  {
   "cell_type": "code",
   "execution_count": 9,
   "metadata": {},
   "outputs": [
    {
     "name": "stdout",
     "output_type": "stream",
     "text": [
      "Flask app is running! Open http://127.0.0.1:5000 in your browser.\n",
      " * Serving Flask app 'app'\n",
      " * Debug mode: off\n"
     ]
    },
    {
     "name": "stderr",
     "output_type": "stream",
     "text": [
      "\u001b[31m\u001b[1mWARNING: This is a development server. Do not use it in a production deployment. Use a production WSGI server instead.\u001b[0m\n",
      " * Running on http://127.0.0.1:5000\n",
      "\u001b[33mPress CTRL+C to quit\u001b[0m\n",
      "127.0.0.1 - - [20/Dec/2024 05:45:41] \"GET / HTTP/1.1\" 200 -\n",
      "127.0.0.1 - - [20/Dec/2024 05:45:41] \"GET /static/wordcloud.png HTTP/1.1\" 200 -\n",
      "127.0.0.1 - - [20/Dec/2024 05:45:41] \"GET /static/top_channels.png HTTP/1.1\" 200 -\n",
      "127.0.0.1 - - [20/Dec/2024 05:45:41] \"GET /static/heatmap.png HTTP/1.1\" 200 -\n",
      "127.0.0.1 - - [20/Dec/2024 05:45:41] \"GET /static/lineplot.png HTTP/1.1\" 200 -\n"
     ]
    }
   ],
   "source": [
    "# Initialize the Flask app\n",
    "dashboard_app = YouTubeApp()\n",
    "\n",
    "# Run the Flask app in a separate thread\n",
    "flask_thread = Thread(target=dashboard_app.run, kwargs={'host': '127.0.0.1', 'port': 5000})\n",
    "flask_thread.start()\n",
    "print(\"Flask app is running! Open http://127.0.0.1:5000 in your browser.\")"
   ]
  },
  {
   "cell_type": "markdown",
   "metadata": {},
   "source": [
    "\n",
    "**Now it is your turn! Go to [Google Takeout](https://takeout.google.com/) and download you YouTube data following the README file!**"
   ]
  },
  {
   "cell_type": "markdown",
   "metadata": {},
   "source": []
  }
 ],
 "metadata": {
  "kernelspec": {
   "display_name": "base",
   "language": "python",
   "name": "python3"
  },
  "language_info": {
   "codemirror_mode": {
    "name": "ipython",
    "version": 3
   },
   "file_extension": ".py",
   "mimetype": "text/x-python",
   "name": "python",
   "nbconvert_exporter": "python",
   "pygments_lexer": "ipython3",
   "version": "3.12.2"
  }
 },
 "nbformat": 4,
 "nbformat_minor": 4
}
